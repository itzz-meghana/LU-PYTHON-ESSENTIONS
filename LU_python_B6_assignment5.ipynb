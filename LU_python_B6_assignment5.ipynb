{
  "nbformat": 4,
  "nbformat_minor": 0,
  "metadata": {
    "colab": {
      "name": "LU python B6 assignment5.ipynb",
      "provenance": [],
      "collapsed_sections": [],
      "authorship_tag": "ABX9TyN/8wPl3nbq6dWs2pM2djYO"
    },
    "kernelspec": {
      "name": "python3",
      "display_name": "Python 3"
    }
  },
  "cells": [
    {
      "cell_type": "code",
      "metadata": {
        "id": "NO_RBbznwOdy",
        "colab_type": "code",
        "colab": {
          "base_uri": "https://localhost:8080/",
          "height": 54
        },
        "outputId": "11469750-04b8-4aa4-fd10-d4787300146c"
      },
      "source": [
        "##1st question\n",
        "list1=[0,1,2,10,4,1,0,56,2,0,1,3,0,56,0,4]\n",
        "list1.sort()\n",
        "list1.extend((0,0,0,0,0))\n",
        "del list1[0:5]\n",
        "print(list1)"
      ],
      "execution_count": 3,
      "outputs": [
        {
          "output_type": "stream",
          "text": [
            "[1, 1, 1, 2, 2, 3, 4, 4, 10, 56, 56, 0, 0, 0, 0, 0]\n"
          ],
          "name": "stdout"
        }
      ]
    },
    {
      "cell_type": "code",
      "metadata": {
        "id": "m3jDHYKCxkDt",
        "colab_type": "code",
        "colab": {
          "base_uri": "https://localhost:8080/",
          "height": 34
        },
        "outputId": "f387fe81-cbe3-482e-e440-228379bac605"
      },
      "source": [
        "##2nd question\n",
        "list1=[10,20,40,60,70,80]\n",
        "list2=[5,15,25,35,45,60]\n",
        "res=list1+list2\n",
        "for each in range(5,81):\n",
        "    if each in res:\n",
        "     print(each,end=\",\")"
      ],
      "execution_count": 11,
      "outputs": [
        {
          "output_type": "stream",
          "text": [
            "5,10,15,20,25,35,40,45,60,70,80,"
          ],
          "name": "stdout"
        }
      ]
    },
    {
      "cell_type": "code",
      "metadata": {
        "id": "o-EXv9G_xZVJ",
        "colab_type": "code",
        "colab": {}
      },
      "source": [
        ""
      ],
      "execution_count": null,
      "outputs": []
    }
  ]
}
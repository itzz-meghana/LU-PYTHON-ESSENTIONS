{
  "nbformat": 4,
  "nbformat_minor": 0,
  "metadata": {
    "colab": {
      "name": "LetsUpgrade python day3 assignment.ipynb",
      "provenance": [],
      "authorship_tag": "ABX9TyPADlessbcN44eItDf19pFt",
      "include_colab_link": true
    },
    "kernelspec": {
      "name": "python3",
      "display_name": "Python 3"
    }
  },
  "cells": [
    {
      "cell_type": "markdown",
      "metadata": {
        "id": "view-in-github",
        "colab_type": "text"
      },
      "source": [
        "<a href=\"https://colab.research.google.com/github/itzz-meghana/LU-PYTHON-ESSENTIONS/blob/master/LetsUpgrade_python_day3_assignment.ipynb\" target=\"_parent\"><img src=\"https://colab.research.google.com/assets/colab-badge.svg\" alt=\"Open In Colab\"/></a>"
      ]
    },
    {
      "cell_type": "code",
      "metadata": {
        "id": "wARuL2mCKoq2",
        "colab_type": "code",
        "colab": {
          "base_uri": "https://localhost:8080/",
          "height": 51
        },
        "outputId": "3bbd6823-4c25-458e-cda8-ef5543b86ebd"
      },
      "source": [
        " \n",
        "# Program to add natural\n",
        "# numbers up to \n",
        "# sum = 1+2+3+...+n\n",
        " \n",
        "# To take input from the user,\n",
        "# n = int(input(\"Enter n: \"))\n",
        " \n",
        "n=int(input(\"Enter n value:\"))\n",
        " \n",
        "# initialize sum and counter\n",
        "sum = 0\n",
        "i = 1\n",
        " \n",
        "while i <= n:\n",
        "    sum = sum + i\n",
        "    i = i+1    # update counter\n",
        " \n",
        "# print the sum\n",
        "print(\"The sum is\", sum)"
      ],
      "execution_count": 5,
      "outputs": [
        {
          "output_type": "stream",
          "text": [
            "Enter n value:6\n",
            "The sum is 21\n"
          ],
          "name": "stdout"
        }
      ]
    }
  ]
}
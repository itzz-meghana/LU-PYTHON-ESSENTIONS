{
  "nbformat": 4,
  "nbformat_minor": 0,
  "metadata": {
    "colab": {
      "name": "LetsUpgrade Python B6 assignment7.ipynb",
      "provenance": [],
      "collapsed_sections": []
    },
    "kernelspec": {
      "name": "python3",
      "display_name": "Python 3"
    }
  },
  "cells": [
    {
      "cell_type": "code",
      "metadata": {
        "id": "3vf8Zs1LqtO2",
        "colab_type": "code",
        "colab": {
          "base_uri": "https://localhost:8080/",
          "height": 54
        },
        "outputId": "93eb70ec-aaf6-41f0-ce61-ac445c74e9f0"
      },
      "source": [
        "# QN.NO.1\n",
        "#TO CREATE A NEW DICTIONARY IN WHICH KEYS BECOMES VALUES AND VALUES BECOMES KEYS\n",
        " \n",
        "dict1 = {21:\"ftp\",22:\"ssh\",23:\"telnet\",80:\"http\"} \n",
        "dict2 ={value:key         for key,value in dict1.items()}\n",
        "print(\"The output:\",dict2)"
      ],
      "execution_count": null,
      "outputs": [
        {
          "output_type": "stream",
          "text": [
            "The output: {'ftp': 21, 'ssh': 22, 'telnet': 23, 'http': 80}\n"
          ],
          "name": "stdout"
        }
      ]
    },
    {
      "cell_type": "code",
      "metadata": {
        "id": "D8XvL6-DxJ8Y",
        "colab_type": "code",
        "colab": {
          "base_uri": "https://localhost:8080/",
          "height": 54
        },
        "outputId": "8aded3a1-d449-4756-a148-40740ba67274"
      },
      "source": [
        "#QN.NO.2\n",
        "# MAKE A NEW LIST WHICH CONTAINS THE SUM OF TUPLE\n",
        " \n",
        "list1=[(1,2),(3,4),(5,6),(4,5)]\n",
        "list2=[]\n",
        "for each in range(0,len(list1)):\n",
        "  a,b=list1[each]\n",
        "  list2.append(a+b)\n",
        "print(\"The list contains sum of tuple:\",list2)"
      ],
      "execution_count": null,
      "outputs": [
        {
          "output_type": "stream",
          "text": [
            "The list contains sum of tuple: [3, 7, 11, 9]\n"
          ],
          "name": "stdout"
        }
      ]
    },
    {
      "cell_type": "code",
      "metadata": {
        "id": "wM7oso0Ixlv2",
        "colab_type": "code",
        "colab": {
          "base_uri": "https://localhost:8080/",
          "height": 54
        },
        "outputId": "d3d90392-a59e-4916-ff85-edbc95602040"
      },
      "source": [
        "# QN.NO.3\n",
        "# To make the elements in the inner list and tuple to the outer list:\n",
        " \n",
        "list1=[(1,2,3),[1,2],['a','hit','less']]\n",
        "list2=[]\n",
        "list2=[i for each in list1 for i in each]\n",
        "print (\"The required output:\",list2)"
      ],
      "execution_count": null,
      "outputs": [
        {
          "output_type": "stream",
          "text": [
            "The required output: [1, 2, 3, 1, 2, 'a', 'hit', 'less']\n"
          ],
          "name": "stdout"
        }
      ]
    }
  ]
}
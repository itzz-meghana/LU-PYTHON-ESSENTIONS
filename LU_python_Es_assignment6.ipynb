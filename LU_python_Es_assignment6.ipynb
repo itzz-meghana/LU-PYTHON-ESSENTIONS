{
  "nbformat": 4,
  "nbformat_minor": 0,
  "metadata": {
    "colab": {
      "name": "LU python Es assignment6.ipynb",
      "provenance": [],
      "authorship_tag": "ABX9TyP7soCGX9hqSI2Ztn+/OKAa"
    },
    "kernelspec": {
      "name": "python3",
      "display_name": "Python 3"
    }
  },
  "cells": [
    {
      "cell_type": "code",
      "metadata": {
        "id": "2GLLp2fCqZOS",
        "colab_type": "code",
        "colab": {
          "base_uri": "https://localhost:8080/",
          "height": 54
        },
        "outputId": "edf31d48-2d9d-4371-dc83-7f8842427ee6"
      },
      "source": [
        "list1=[1,2,3,4,5,7,8]\n",
        "list2=[\"a\",\"b\",\"c\",\"d\",\"e\"]\n",
        "d1={list1[each]:list2[each] for each in range (min(len(list1),len(list2)))}\n",
        "print(d1)"
      ],
      "execution_count": 2,
      "outputs": [
        {
          "output_type": "stream",
          "text": [
            "{1: 'a', 2: 'b', 3: 'c', 4: 'd', 5: 'e'}\n"
          ],
          "name": "stdout"
        }
      ]
    }
  ]
}